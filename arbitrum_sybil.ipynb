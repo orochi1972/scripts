{
  "nbformat": 4,
  "nbformat_minor": 0,
  "metadata": {
    "colab": {
      "provenance": [],
      "toc_visible": true,
      "mount_file_id": "1qUJj6TDYXeFJTFhIHJL0GtkmRLeytztM",
      "authorship_tag": "ABX9TyO/ZSOrOw3ieZlNMP+bR+sk",
      "include_colab_link": true
    },
    "kernelspec": {
      "name": "python3",
      "display_name": "Python 3"
    },
    "language_info": {
      "name": "python"
    }
  },
  "cells": [
    {
      "cell_type": "markdown",
      "metadata": {
        "id": "view-in-github",
        "colab_type": "text"
      },
      "source": [
        "<a href=\"https://colab.research.google.com/github/orochi1972/mine/blob/main/arbitrum_sybil.ipynb\" target=\"_parent\"><img src=\"https://colab.research.google.com/assets/colab-badge.svg\" alt=\"Open In Colab\"/></a>"
      ]
    },
    {
      "cell_type": "code",
      "execution_count": null,
      "metadata": {
        "id": "cgk1LvmBxjqG"
      },
      "outputs": [],
      "source": [
        "import pandas as pd\n",
        "import numpy as np\n",
        "from web3 import Web3"
      ]
    },
    {
      "cell_type": "code",
      "source": [
        "alchemy_url = \"https://arb-mainnet.g.alchemy.com/v2/AMKv-i8frAYAfSvsrpgde-fhJeAWCowL\"\n",
        "w3 = Web3(Web3.HTTPProvider(alchemy_url))\n",
        "  \n",
        "# Print if web3 is successfully connected\n",
        "print(w3.isConnected())"
      ],
      "metadata": {
        "colab": {
          "base_uri": "https://localhost:8080/"
        },
        "id": "EpiPEby5aFJn",
        "outputId": "5619a654-2f39-4709-9b9e-6c5266391ec4"
      },
      "execution_count": null,
      "outputs": [
        {
          "output_type": "stream",
          "name": "stdout",
          "text": [
            "True\n"
          ]
        }
      ]
    },
    {
      "cell_type": "code",
      "source": [
        "data = pd.read_excel('/content/drive/MyDrive/web 3/sybilAttack.xlsx')"
      ],
      "metadata": {
        "id": "sYkvhR0JoTxS"
      },
      "execution_count": null,
      "outputs": []
    },
    {
      "cell_type": "code",
      "source": [
        "addresses = data['Address'].values.tolist()\n",
        "privates = data['PrivateKey'].values.tolist()"
      ],
      "metadata": {
        "id": "wnuPk1xAWAEW"
      },
      "execution_count": null,
      "outputs": []
    },
    {
      "cell_type": "code",
      "source": [
        "def transfer(addr1,addr2,key1):\n",
        "  addr1 = w3.toChecksumAddress(addr1)\n",
        "  addr2 = w3.toChecksumAddress(addr2)\n",
        "  nonce =w3.eth.get_transaction_count(addr1)\n",
        "  balance = w3.eth.get_balance(addr1)\n",
        "  #build a transaction in a dictionary\n",
        "  tx = {\n",
        "      'nonce': nonce,\n",
        "      'to': addr2,\n",
        "      'value': balance-20000000000000,\n",
        "      'gas': 200000,\n",
        "      'gasPrice': w3.toWei('0.1', 'gwei')\n",
        "  }\n",
        "  signed_tx = w3.eth.account.sign_transaction(tx, key1)\n",
        "  tx_hash = w3.eth.sendRawTransaction(signed_tx.rawTransaction)\n",
        "  recepit = w3.eth.wait_for_transaction_receipt(tx_hash)\n",
        "  return recepit['blockHash']"
      ],
      "metadata": {
        "id": "drHCbz2TitjT"
      },
      "execution_count": null,
      "outputs": []
    },
    {
      "cell_type": "code",
      "source": [
        "for i in range(180,1000):\n",
        "  if i<999:\n",
        "    addr1=addresses[i]\n",
        "    addr2=addresses[i+1]\n",
        "    key1= privates[i]\n",
        "    transfer(addr1,addr2,key1)\n",
        "    print(i,addr1,addr2)\n"
      ],
      "metadata": {
        "colab": {
          "base_uri": "https://localhost:8080/"
        },
        "id": "qgBmatS-jPJY",
        "outputId": "de482370-e43f-45a2-c9d7-3b4b96b276d0"
      },
      "execution_count": null,
 
         
        }
      ]
    }
  ]
}
